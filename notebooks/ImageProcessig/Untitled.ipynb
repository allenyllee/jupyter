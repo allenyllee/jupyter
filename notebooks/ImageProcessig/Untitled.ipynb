{
 "cells": [
  {
   "cell_type": "code",
   "execution_count": 2,
   "metadata": {},
   "outputs": [
    {
     "name": "stdout",
     "output_type": "stream",
     "text": [
      "Processing file: pic1.jpg\n",
      "Number of faces detected: 17\n",
      "Detection 0: Left: 944 Top: 357 Right: 1006 Bottom: 419\n",
      "Detection 1: Left: 674 Top: 398 Right: 736 Bottom: 460\n",
      "Detection 2: Left: 1186 Top: 405 Right: 1248 Bottom: 467\n",
      "Detection 3: Left: 967 Top: 478 Right: 1042 Bottom: 553\n",
      "Detection 4: Left: 735 Top: 478 Right: 809 Bottom: 553\n",
      "Detection 5: Left: 295 Top: 387 Right: 370 Bottom: 461\n",
      "Detection 6: Left: 563 Top: 377 Right: 626 Bottom: 440\n",
      "Detection 7: Left: 849 Top: 383 Right: 901 Bottom: 435\n",
      "Detection 8: Left: 1265 Top: 354 Right: 1340 Bottom: 428\n",
      "Detection 9: Left: 88 Top: 304 Right: 162 Bottom: 378\n",
      "Detection 10: Left: 435 Top: 372 Right: 487 Bottom: 424\n",
      "Detection 11: Left: 386 Top: 478 Right: 461 Bottom: 553\n",
      "Detection 12: Left: 584 Top: 516 Right: 636 Bottom: 568\n",
      "Detection 13: Left: 1199 Top: 619 Right: 1274 Bottom: 694\n",
      "Detection 14: Left: 778 Top: 350 Right: 840 Bottom: 412\n",
      "Detection 15: Left: 1027 Top: 357 Right: 1089 Bottom: 419\n",
      "Detection 16: Left: 220 Top: 503 Right: 295 Bottom: 578\n",
      "Detection [(944, 357) (1006, 419)], score: 2.198084369785351, face_type:1.0\n",
      "Detection [(674, 398) (736, 460)], score: 2.1163010751076166, face_type:1.0\n",
      "Detection [(1186, 405) (1248, 467)], score: 1.9267042316926832, face_type:0.0\n",
      "Detection [(967, 478) (1042, 553)], score: 1.8686769642366285, face_type:0.0\n",
      "Detection [(735, 478) (809, 553)], score: 1.7521858369179193, face_type:1.0\n",
      "Detection [(295, 387) (370, 461)], score: 1.712948814518017, face_type:1.0\n",
      "Detection [(563, 377) (626, 440)], score: 1.5061132013424827, face_type:4.0\n",
      "Detection [(849, 383) (901, 435)], score: 1.2130757867917015, face_type:4.0\n",
      "Detection [(1265, 354) (1340, 428)], score: 1.204991165591609, face_type:0.0\n",
      "Detection [(88, 304) (162, 378)], score: 1.0322570954628412, face_type:1.0\n",
      "Detection [(435, 372) (487, 424)], score: 0.9933694042695875, face_type:0.0\n",
      "Detection [(386, 478) (461, 553)], score: 0.8718114053078119, face_type:1.0\n",
      "Detection [(584, 516) (636, 568)], score: 0.8044999279512282, face_type:0.0\n",
      "Detection [(1199, 619) (1274, 694)], score: 0.6851518787874098, face_type:0.0\n",
      "Detection [(778, 350) (840, 412)], score: 0.6171665345497552, face_type:1.0\n",
      "Detection [(1027, 357) (1089, 419)], score: 0.3751552738679762, face_type:0.0\n",
      "Detection [(220, 503) (295, 578)], score: 0.09075218815935804, face_type:0.0\n",
      "Detection [(677, 511) (751, 586)], score: -0.2651718557253884, face_type:4.0\n",
      "Detection [(315, 343) (377, 405)], score: -0.5374600253568773, face_type:0.0\n",
      "Detection [(477, 690) (513, 726)], score: -0.606688588894944, face_type:4.0\n",
      "Detection [(563, 647) (626, 709)], score: -0.6786319575773363, face_type:0.0\n",
      "Detection [(146, 967) (220, 1042)], score: -0.6999381482974099, face_type:4.0\n",
      "Detection [(1220, 494) (1310, 584)], score: -0.7466000522473428, face_type:2.0\n",
      "Detection [(1202, 749) (1310, 856)], score: -0.8771333060728197, face_type:0.0\n",
      "Detection [(1029, 498) (1065, 534)], score: -0.9372944678000983, face_type:1.0\n",
      "Detection [(475, 424) (527, 475)], score: -0.939269155301194, face_type:4.0\n",
      "Detection [(1181, 502) (1217, 538)], score: -0.9599206293754157, face_type:1.0\n",
      "Detection [(521, 642) (557, 678)], score: -0.96153157572614, face_type:0.0\n",
      "Detection [(792, 584) (882, 673)], score: -0.9807073081830118, face_type:2.0\n"
     ]
    }
   ],
   "source": [
    "%run face_detector.py pic1.jpg"
   ]
  },
  {
   "cell_type": "code",
   "execution_count": null,
   "metadata": {
    "collapsed": true
   },
   "outputs": [],
   "source": []
  },
  {
   "cell_type": "code",
   "execution_count": null,
   "metadata": {
    "collapsed": true
   },
   "outputs": [],
   "source": []
  }
 ],
 "metadata": {
  "kernelspec": {
   "display_name": "Python 3",
   "language": "python",
   "name": "python3"
  },
  "language_info": {
   "codemirror_mode": {
    "name": "ipython",
    "version": 3
   },
   "file_extension": ".py",
   "mimetype": "text/x-python",
   "name": "python",
   "nbconvert_exporter": "python",
   "pygments_lexer": "ipython3",
   "version": "3.6.2"
  }
 },
 "nbformat": 4,
 "nbformat_minor": 2
}
