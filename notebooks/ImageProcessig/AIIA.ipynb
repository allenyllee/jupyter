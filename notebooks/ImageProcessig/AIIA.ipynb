{
 "cells": [
  {
   "cell_type": "code",
   "execution_count": 1,
   "metadata": {},
   "outputs": [
    {
     "name": "stdout",
     "output_type": "stream",
     "text": [
      "/opt/notebooks/ImageProcessig/facedetect\n",
      "Processing file: ./pics/iStock-170036780.FFP1701.jpg\n",
      "Number of faces detected: 5\n",
      "Detection 0: Left: 509 Top: 118 Right: 545 Bottom: 154\n",
      "Detection 1: Left: 113 Top: 198 Right: 149 Bottom: 234\n",
      "Detection 2: Left: 105 Top: 98 Right: 141 Bottom: 134\n",
      "Detection 3: Left: 386 Top: 228 Right: 429 Bottom: 271\n",
      "Detection 4: Left: 301 Top: 134 Right: 337 Bottom: 170\n",
      "Detection [(509, 118) (545, 154)], score: 1.696279862990084, face_type:2.0\n",
      "Detection [(113, 198) (149, 234)], score: 1.4061730541719313, face_type:0.0\n",
      "Detection [(105, 98) (141, 134)], score: 1.0587949906654779, face_type:1.0\n",
      "Detection [(386, 228) (429, 271)], score: 0.6628716980120566, face_type:2.0\n",
      "Detection [(301, 134) (337, 170)], score: 0.40688449521197034, face_type:0.0\n",
      "Detection [(581, 74) (617, 110)], score: -0.46544518126040435, face_type:2.0\n",
      "Detection [(89, 174) (125, 210)], score: -0.8859797920086954, face_type:2.0\n"
     ]
    }
   ],
   "source": [
    "%cd /opt/notebooks/ImageProcessig/facedetect\n",
    "%run face_detector.py ./pics/iStock-170036780.FFP1701.jpg"
   ]
  },
  {
   "cell_type": "code",
   "execution_count": null,
   "metadata": {
    "collapsed": true
   },
   "outputs": [],
   "source": []
  },
  {
   "cell_type": "code",
   "execution_count": 35,
   "metadata": {},
   "outputs": [
    {
     "name": "stdout",
     "output_type": "stream",
     "text": [
      "/opt/notebooks/ImageProcessig/facedetect\n",
      "Processing file: ./pics/collegestudents.jpg\n",
      "Number of faces detected: 10\n",
      "Detection 0: Left: 474 Top: 247 Right: 581 Bottom: 355\n",
      "Part 0: (467, 293), Part 1: (466, 307) ...\n",
      "Detection 1: Left: 612 Top: 156 Right: 674 Bottom: 218\n",
      "Part 0: (606, 174), Part 1: (605, 182) ...\n",
      "Detection 2: Left: 1066 Top: 254 Right: 1141 Bottom: 329\n",
      "Part 0: (1053, 260), Part 1: (1051, 273) ...\n",
      "Detection 3: Left: 743 Top: 265 Right: 832 Bottom: 355\n",
      "Part 0: (740, 297), Part 1: (742, 308) ...\n",
      "Detection 4: Left: 13 Top: 22 Right: 88 Bottom: 96\n",
      "Part 0: (14, 48), Part 1: (15, 56) ...\n",
      "Detection 5: Left: 116 Top: 265 Right: 205 Bottom: 355\n",
      "Part 0: (102, 299), Part 1: (104, 313) ...\n",
      "Detection 6: Left: 225 Top: 116 Right: 315 Bottom: 206\n",
      "Part 0: (228, 130), Part 1: (228, 142) ...\n",
      "Detection 7: Left: 504 Top: 107 Right: 556 Bottom: 159\n",
      "Part 0: (500, 119), Part 1: (500, 127) ...\n",
      "Detection 8: Left: 901 Top: 163 Right: 975 Bottom: 237\n",
      "Part 0: (906, 182), Part 1: (905, 191) ...\n",
      "Detection 9: Left: 315 Top: 66 Right: 377 Bottom: 129\n",
      "Part 0: (313, 86), Part 1: (313, 93) ...\n",
      "Processing file: ./pics/images (1).jpg\n",
      "Number of faces detected: 4\n",
      "Detection 0: Left: 129 Top: 70 Right: 165 Bottom: 106\n",
      "Part 0: (127, 80), Part 1: (127, 85) ...\n",
      "Detection 1: Left: 247 Top: 60 Right: 290 Bottom: 103\n",
      "Part 0: (246, 78), Part 1: (246, 83) ...\n",
      "Detection 2: Left: 25 Top: 54 Right: 61 Bottom: 90\n",
      "Part 0: (21, 64), Part 1: (22, 69) ...\n",
      "Detection 3: Left: 53 Top: 10 Right: 89 Bottom: 46\n",
      "Part 0: (55, 25), Part 1: (55, 29) ...\n",
      "Processing file: ./pics/images.jpg\n",
      "Number of faces detected: 2\n",
      "Detection 0: Left: 149 Top: 39 Right: 211 Bottom: 101\n",
      "Part 0: (157, 60), Part 1: (157, 67) ...\n",
      "Detection 1: Left: 85 Top: 50 Right: 121 Bottom: 86\n",
      "Part 0: (92, 66), Part 1: (93, 69) ...\n",
      "Processing file: ./pics/iStock-170036780.FFP1701.jpg\n",
      "Number of faces detected: 5\n",
      "Detection 0: Left: 509 Top: 118 Right: 545 Bottom: 154\n",
      "Part 0: (508, 127), Part 1: (508, 131) ...\n",
      "Detection 1: Left: 113 Top: 198 Right: 149 Bottom: 234\n",
      "Part 0: (119, 207), Part 1: (119, 210) ...\n",
      "Detection 2: Left: 105 Top: 98 Right: 141 Bottom: 134\n",
      "Part 0: (111, 112), Part 1: (111, 115) ...\n",
      "Detection 3: Left: 386 Top: 228 Right: 429 Bottom: 271\n",
      "Part 0: (383, 232), Part 1: (383, 238) ...\n",
      "Detection 4: Left: 301 Top: 134 Right: 337 Bottom: 170\n",
      "Part 0: (309, 145), Part 1: (309, 148) ...\n",
      "Processing file: ./pics/student-benefits-list-image.jpg\n",
      "Number of faces detected: 6\n",
      "Detection 0: Left: 106 Top: 66 Right: 195 Bottom: 156\n",
      "Part 0: (111, 85), Part 1: (111, 97) ...\n",
      "Detection 1: Left: 8 Top: 104 Right: 115 Bottom: 211\n",
      "Part 0: (21, 136), Part 1: (20, 148) ...\n",
      "Detection 2: Left: 171 Top: 105 Right: 245 Bottom: 179\n",
      "Part 0: (189, 116), Part 1: (185, 123) ...\n",
      "Detection 3: Left: 294 Top: 101 Right: 356 Bottom: 163\n",
      "Part 0: (293, 114), Part 1: (292, 122) ...\n",
      "Detection 4: Left: 386 Top: 127 Right: 429 Bottom: 170\n",
      "Part 0: (385, 136), Part 1: (384, 142) ...\n",
      "Detection 5: Left: 343 Top: 107 Right: 394 Bottom: 159\n",
      "Part 0: (347, 120), Part 1: (347, 126) ...\n",
      "Processing file: ./pics/tabs-student-acad_0.jpg\n",
      "Number of faces detected: 13\n",
      "Detection 0: Left: 254 Top: 47 Right: 328 Bottom: 121\n",
      "Part 0: (271, 84), Part 1: (270, 91) ...\n",
      "Detection 1: Left: 623 Top: 176 Right: 713 Bottom: 265\n",
      "Part 0: (646, 209), Part 1: (646, 217) ...\n",
      "Detection 2: Left: 426 Top: 247 Right: 533 Bottom: 355\n",
      "Part 0: (459, 297), Part 1: (458, 306) ...\n",
      "Detection 3: Left: 46 Top: 138 Right: 121 Bottom: 213\n",
      "Part 0: (63, 169), Part 1: (61, 176) ...\n",
      "Detection 4: Left: 165 Top: 196 Right: 255 Bottom: 285\n",
      "Part 0: (186, 241), Part 1: (185, 249) ...\n",
      "Detection 5: Left: 478 Top: 121 Right: 552 Bottom: 196\n",
      "Part 0: (493, 149), Part 1: (493, 156) ...\n",
      "Detection 6: Left: 478 Top: 30 Right: 552 Bottom: 105\n",
      "Part 0: (489, 68), Part 1: (490, 75) ...\n",
      "Detection 7: Left: 342 Top: 46 Right: 405 Bottom: 108\n",
      "Part 0: (355, 72), Part 1: (355, 78) ...\n",
      "Detection 8: Left: 563 Top: 73 Right: 626 Bottom: 135\n",
      "Part 0: (566, 107), Part 1: (567, 113) ...\n",
      "Detection 9: Left: 328 Top: 163 Right: 403 Bottom: 237\n",
      "Part 0: (352, 194), Part 1: (350, 200) ...\n",
      "Detection 10: Left: 636 Top: 9 Right: 688 Bottom: 61\n",
      "Part 0: (637, 29), Part 1: (637, 36) ...\n",
      "Detection 11: Left: 695 Top: 25 Right: 757 Bottom: 87\n",
      "Part 0: (703, 40), Part 1: (701, 46) ...\n",
      "Detection 12: Left: 107 Top: 66 Right: 170 Bottom: 129\n",
      "Part 0: (124, 100), Part 1: (123, 105) ...\n"
     ]
    }
   ],
   "source": [
    "%cd /opt/notebooks/ImageProcessig/facedetect\n",
    "%run face_landmark.py shape_predictor_68_face_landmarks.dat ./pics/"
   ]
  },
  {
   "cell_type": "code",
   "execution_count": 36,
   "metadata": {},
   "outputs": [
    {
     "name": "stdout",
     "output_type": "stream",
     "text": [
      "/opt/notebooks/ImageProcessig/Face_SWAP_python\n",
      "ok\n",
      "ok\n",
      "./OutPut_BeanOnTrump.jpg\n",
      "ok\n",
      "ok\n",
      "./OutPut_TrumpOnBean.jpg\n"
     ]
    }
   ],
   "source": [
    "%cd /opt/notebooks/ImageProcessig/Face_SWAP_python/\n",
    "%run faceSwap.py Bean.jpg Trump.jpg BeanOnTrump.jpg ./\n",
    "%run faceSwap.py Trump.jpg Bean.jpg TrumpOnBean.jpg ./"
   ]
  },
  {
   "cell_type": "code",
   "execution_count": 37,
   "metadata": {},
   "outputs": [
    {
     "name": "stdout",
     "output_type": "stream",
     "text": [
      "/opt/notebooks/ImageProcessig/Face_SWAP_python\n",
      "ok\n",
      "ok\n",
      "./homework2/OutPut_JobsOnKing.jpg\n",
      "ok\n",
      "ok\n",
      "./homework2/OutPut_KingOnJobs.jpg\n"
     ]
    }
   ],
   "source": [
    "%cd /opt/notebooks/ImageProcessig/Face_SWAP_python/\n",
    "%run faceSwap.py ./homework2/Jobs.jpg ./homework2/King.png JobsOnKing.jpg ./homework2/\n",
    "%run faceSwap.py ./homework2/King.png ./homework2/Jobs.jpg KingOnJobs.jpg ./homework2/"
   ]
  },
  {
   "cell_type": "code",
   "execution_count": 5,
   "metadata": {},
   "outputs": [
    {
     "data": {
      "image/png": "[encoded data removed]",
      "text/plain": [
       "<matplotlib.figure.Figure at 0x7f61fb500ac8>"
      ]
     },
     "metadata": {},
     "output_type": "display_data"
    }
   ],
   "source": [
    "import matplotlib.pyplot as plt\n",
    "plt.plot([1,2,3,4])\n",
    "plt.ylabel('some numbers')\n",
    "plt.show()"
   ]
  },
  {
   "cell_type": "code",
   "execution_count": 11,
   "metadata": {
    "collapsed": true
   },
   "outputs": [],
   "source": [
    "# Python | 開啟 webcam 電腦鏡頭 – Hello,I AM A PROGRAMMER \n",
    "# https://studentcodebank.wordpress.com/2015/08/25/python-%E9%96%8B%E5%95%9F-webcam-%E9%9B%BB%E8%85%A6%E9%8F%A1%E9%A0%AD/\n",
    "\n",
    "# Reading and Writing Images and Video — OpenCV 2.4.13.4 documentation \n",
    "# https://docs.opencv.org/2.4/modules/highgui/doc/reading_and_writing_images_and_video.html#videocapture-release\n",
    "\n",
    "#import from lib\n",
    "import cv2\n",
    "\n",
    "# local modules\n",
    "#from video import create_capture\n",
    "\n",
    "if __name__ == '__main__':\n",
    "   cam = cv2.VideoCapture(0)  #開啟webcam\n",
    "   while True:\n",
    "       ret, img = cam.read()\n",
    "       cv2.imshow('facedetect', img) #開啟一個叫做facedetect的視窗，內容為img\n",
    "       if 0xFF & cv2.waitKey(5) == 27:\n",
    "         break\n",
    "cv2.destroyAllWindows() #關閉所有視窗(好習慣)\n",
    "cam.release() #關閉 webcam"
   ]
  },
  {
   "cell_type": "code",
   "execution_count": 2,
   "metadata": {},
   "outputs": [
    {
     "name": "stdout",
     "output_type": "stream",
     "text": [
      "localhost:10.0\n",
      "env: DISPLAY=localhost:10\n",
      "localhost:10\n"
     ]
    }
   ],
   "source": [
    "!echo $DISPLAY\n",
    "%env DISPLAY=localhost:10\n",
    "!echo $DISPLAY"
   ]
  },
  {
   "cell_type": "code",
   "execution_count": null,
   "metadata": {
    "collapsed": true
   },
   "outputs": [],
   "source": []
  }
 ],
 "metadata": {
  "kernelspec": {
   "display_name": "Python 3",
   "language": "python",
   "name": "python3"
  },
  "language_info": {
   "codemirror_mode": {
    "name": "ipython",
    "version": 3
   },
   "file_extension": ".py",
   "mimetype": "text/x-python",
   "name": "python",
   "nbconvert_exporter": "python",
   "pygments_lexer": "ipython3",
   "version": "3.6.2"
  }
 },
 "nbformat": 4,
 "nbformat_minor": 2
}
