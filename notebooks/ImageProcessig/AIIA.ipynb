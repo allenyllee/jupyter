{
 "cells": [
  {
   "cell_type": "code",
   "execution_count": 1,
   "metadata": {},
   "outputs": [
    {
     "name": "stdout",
     "output_type": "stream",
     "text": [
      "Processing file: ./pics/iStock-170036780.FFP1701.jpg\n",
      "Number of faces detected: 5\n",
      "Detection 0: Left: 509 Top: 118 Right: 545 Bottom: 154\n",
      "Detection 1: Left: 113 Top: 198 Right: 149 Bottom: 234\n",
      "Detection 2: Left: 105 Top: 98 Right: 141 Bottom: 134\n",
      "Detection 3: Left: 386 Top: 228 Right: 429 Bottom: 271\n",
      "Detection 4: Left: 301 Top: 134 Right: 337 Bottom: 170\n",
      "Detection [(509, 118) (545, 154)], score: 1.696279862990084, face_type:2.0\n",
      "Detection [(113, 198) (149, 234)], score: 1.4061730541719313, face_type:0.0\n",
      "Detection [(105, 98) (141, 134)], score: 1.0587949906654779, face_type:1.0\n",
      "Detection [(386, 228) (429, 271)], score: 0.6628716980120566, face_type:2.0\n",
      "Detection [(301, 134) (337, 170)], score: 0.40688449521197034, face_type:0.0\n",
      "Detection [(581, 74) (617, 110)], score: -0.46544518126040435, face_type:2.0\n",
      "Detection [(89, 174) (125, 210)], score: -0.8859797920086954, face_type:2.0\n"
     ]
    }
   ],
   "source": [
    "%run ./facelib/face_detector.py ./pics/iStock-170036780.FFP1701.jpg"
   ]
  },
  {
   "cell_type": "code",
   "execution_count": null,
   "metadata": {
    "collapsed": true
   },
   "outputs": [],
   "source": []
  },
  {
   "cell_type": "code",
   "execution_count": null,
   "metadata": {
    "collapsed": true
   },
   "outputs": [],
   "source": []
  }
 ],
 "metadata": {
  "kernelspec": {
   "display_name": "Python 3",
   "language": "python",
   "name": "python3"
  },
  "language_info": {
   "codemirror_mode": {
    "name": "ipython",
    "version": 3
   },
   "file_extension": ".py",
   "mimetype": "text/x-python",
   "name": "python",
   "nbconvert_exporter": "python",
   "pygments_lexer": "ipython3",
   "version": "3.6.3"
  }
 },
 "nbformat": 4,
 "nbformat_minor": 2
}
